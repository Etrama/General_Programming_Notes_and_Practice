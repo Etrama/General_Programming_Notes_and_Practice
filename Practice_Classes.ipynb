{
 "cells": [
  {
   "cell_type": "markdown",
   "metadata": {},
   "source": [
    "# First, we go through this:\n",
    "https://www.javatpoint.com/python-oops-concepts"
   ]
  },
  {
   "cell_type": "markdown",
   "metadata": {},
   "source": [
    "Everything in python is an object."
   ]
  },
  {
   "cell_type": "code",
   "execution_count": 1,
   "metadata": {},
   "outputs": [
    {
     "data": {
      "text/plain": [
       "\"int(x=0) -> integer\\nint(x, base=10) -> integer\\n\\nConvert a number or string to an integer, or return 0 if no arguments\\nare given.  If x is a number, return x.__int__().  For floating point\\nnumbers, this truncates towards zero.\\n\\nIf x is not a number or if base is given, then x must be a string,\\nbytes, or bytearray instance representing an integer literal in the\\ngiven base.  The literal can be preceded by '+' or '-' and be surrounded\\nby whitespace.  The base defaults to 10.  Valid bases are 0 and 2-36.\\nBase 0 means to interpret the base from the string as an integer literal.\\n>>> int('0b100', base=0)\\n4\""
      ]
     },
     "execution_count": 1,
     "metadata": {},
     "output_type": "execute_result"
    }
   ],
   "source": [
    "int.__doc__"
   ]
  },
  {
   "cell_type": "code",
   "execution_count": 46,
   "metadata": {},
   "outputs": [
    {
     "data": {
      "text/plain": [
       "\"str(object='') -> str\\nstr(bytes_or_buffer[, encoding[, errors]]) -> str\\n\\nCreate a new string object from the given object. If encoding or\\nerrors is specified, then the object must expose a data buffer\\nthat will be decoded using the given encoding and error handler.\\nOtherwise, returns the result of object.__str__() (if defined)\\nor repr(object).\\nencoding defaults to sys.getdefaultencoding().\\nerrors defaults to 'strict'.\""
      ]
     },
     "execution_count": 46,
     "metadata": {},
     "output_type": "execute_result"
    }
   ],
   "source": [
    "str.__doc__"
   ]
  },
  {
   "cell_type": "code",
   "execution_count": 24,
   "metadata": {},
   "outputs": [],
   "source": [
    "str?"
   ]
  },
  {
   "cell_type": "markdown",
   "metadata": {},
   "source": [
    "All functions have an inbuilt \"__doc__\" (ignore spaces) - dunder doc atribute which returns the doc string from the source code. See above."
   ]
  },
  {
   "cell_type": "code",
   "execution_count": 4,
   "metadata": {},
   "outputs": [],
   "source": [
    "def demo():\n",
    "    pass"
   ]
  },
  {
   "cell_type": "code",
   "execution_count": 7,
   "metadata": {},
   "outputs": [],
   "source": [
    "demo.__doc__"
   ]
  },
  {
   "cell_type": "code",
   "execution_count": 6,
   "metadata": {},
   "outputs": [
    {
     "name": "stdout",
     "output_type": "stream",
     "text": [
      "None\n"
     ]
    }
   ],
   "source": [
    "print(demo.__doc__)"
   ]
  },
  {
   "cell_type": "code",
   "execution_count": 8,
   "metadata": {},
   "outputs": [],
   "source": [
    "class demo_class:\n",
    "    pass"
   ]
  },
  {
   "cell_type": "code",
   "execution_count": 9,
   "metadata": {},
   "outputs": [],
   "source": [
    "demo_class.__doc__"
   ]
  },
  {
   "cell_type": "code",
   "execution_count": 10,
   "metadata": {},
   "outputs": [
    {
     "name": "stdout",
     "output_type": "stream",
     "text": [
      "None\n"
     ]
    }
   ],
   "source": [
    "print(demo_class.__doc__)"
   ]
  },
  {
   "cell_type": "markdown",
   "metadata": {},
   "source": [
    "# Why use classes?"
   ]
  },
  {
   "cell_type": "markdown",
   "metadata": {},
   "source": [
    "Makes life easier. Think about a factory making 3 different versions of the same product. <br>\n",
    "Say a bicycle factory. It makes 3 different versions of bikes. Mountain Bikes, Geared Bikes and Vanilla Bikes.<br>\n",
    "Instead of making 3 different bike_move_straight() functions, we can use the same one for all 3. <br>\n",
    "I guess it makes more sense when all 3 have the same function but different way in which the function changes the state of the bike. <br>\n",
    "Nice segway to method overloading probably. <br>\n",
    "Also classes enable us to make our own custom data types which are combinations of inbuilt types is a feeling I usually have."
   ]
  },
  {
   "cell_type": "markdown",
   "metadata": {},
   "source": [
    "# Definitions:"
   ]
  },
  {
   "cell_type": "markdown",
   "metadata": {},
   "source": [
    "Class - Collection of objects.<br>\n",
    "Has:<br>\n",
    "    Methods - change in state. Change in bike speed. Dynamic in the sense that a variable changes value. <br>\n",
    "    Attributes - characteristice of object. Static in a sense for a given type of bike. Maybe a var which tells if a bike has a passenger seat.<br>\n",
    "    \n",
    "Inheritance - Child / Dervied Classes i.e Mountain Bike, Geared Bikes etc are children of the parent bike class. They inherit all properties of the parent.\n",
    "\n",
    "Polymorphism - Different forms of the same thing. Like different types of bikes may differ in how quickly their velocity changes.\n",
    "\n",
    "Encapsulation - Restricts access to variables and methods. Code and data wrapped together to avoid getting modified by accident.\n",
    "\n",
    "Data Abstraction - Achieved through encapsulation. Often synonymous. Hide gory internal details show only functionalities. I guess hide how the bikes are built and show only the finished bike?"
   ]
  },
  {
   "cell_type": "markdown",
   "metadata": {},
   "source": [
    "Moving on to:\n",
    "https://realpython.com/python3-object-oriented-programming/"
   ]
  },
  {
   "cell_type": "markdown",
   "metadata": {},
   "source": [
    "## Experiments with dunder docs:"
   ]
  },
  {
   "cell_type": "code",
   "execution_count": 52,
   "metadata": {},
   "outputs": [
    {
     "name": "stdout",
     "output_type": "stream",
     "text": [
      "Look, it's my first class! Hope I wrote it with class while in class.\n"
     ]
    }
   ],
   "source": [
    "class my_class:\n",
    "    print(\"Look, it's my first class! Hope I wrote it with class while in class.\")\n",
    "    \n",
    "    def __doc__(self):\n",
    "        print(\"Defining dunder doc for my classy class.\")\n",
    "        #Why does this __doc__ instantiation only work with closing \"()\"? Why doesn't it work like the above? SOLVED. Needed to add a @property decorator."
   ]
  },
  {
   "cell_type": "code",
   "execution_count": 53,
   "metadata": {},
   "outputs": [],
   "source": [
    "my_object = my_class()"
   ]
  },
  {
   "cell_type": "code",
   "execution_count": 55,
   "metadata": {},
   "outputs": [
    {
     "name": "stdout",
     "output_type": "stream",
     "text": [
      "Defining dunder doc for my classy class.\n"
     ]
    }
   ],
   "source": [
    "my_object.__doc__()"
   ]
  },
  {
   "cell_type": "code",
   "execution_count": 70,
   "metadata": {},
   "outputs": [
    {
     "name": "stdout",
     "output_type": "stream",
     "text": [
      "Look, it's my first class! Hope I wrote it with class while in class.\n"
     ]
    }
   ],
   "source": [
    "class my_class_1:\n",
    "    print(\"Look, it's my first class! Hope I wrote it with class while in class.\")\n",
    "    \n",
    "    @property\n",
    "    def __doc__(self):\n",
    "        print(\"Defining dunder doc for my classy class.\")"
   ]
  },
  {
   "cell_type": "code",
   "execution_count": 71,
   "metadata": {},
   "outputs": [],
   "source": [
    "my_object = my_class_1()"
   ]
  },
  {
   "cell_type": "code",
   "execution_count": 72,
   "metadata": {},
   "outputs": [
    {
     "name": "stdout",
     "output_type": "stream",
     "text": [
      "Defining dunder doc for my classy class.\n"
     ]
    },
    {
     "ename": "TypeError",
     "evalue": "'NoneType' object is not callable",
     "output_type": "error",
     "traceback": [
      "\u001b[1;31m---------------------------------------------------------------------------\u001b[0m",
      "\u001b[1;31mTypeError\u001b[0m                                 Traceback (most recent call last)",
      "\u001b[1;32m<ipython-input-72-fdf5126185ec>\u001b[0m in \u001b[0;36m<module>\u001b[1;34m()\u001b[0m\n\u001b[1;32m----> 1\u001b[1;33m \u001b[0mmy_object\u001b[0m\u001b[1;33m.\u001b[0m\u001b[0m__doc__\u001b[0m\u001b[1;33m(\u001b[0m\u001b[1;33m)\u001b[0m\u001b[1;33m\u001b[0m\u001b[0m\n\u001b[0m\u001b[0;32m      2\u001b[0m \u001b[1;31m# The () suffix version no longer works.\u001b[0m\u001b[1;33m\u001b[0m\u001b[1;33m\u001b[0m\u001b[0m\n",
      "\u001b[1;31mTypeError\u001b[0m: 'NoneType' object is not callable"
     ]
    }
   ],
   "source": [
    "my_object.__doc__()\n",
    "# The () suffix version no longer works."
   ]
  },
  {
   "cell_type": "code",
   "execution_count": 69,
   "metadata": {},
   "outputs": [
    {
     "name": "stdout",
     "output_type": "stream",
     "text": [
      "Defining dunder doc for my classy class.\n"
     ]
    }
   ],
   "source": [
    "my_object.__doc__\n",
    "# But the dunder doc like str.__doc__ now does work. Woot?"
   ]
  },
  {
   "cell_type": "markdown",
   "metadata": {},
   "source": [
    "# Supposed to use Camel Case for classes."
   ]
  },
  {
   "cell_type": "markdown",
   "metadata": {},
   "source": [
    "## Instance Attributes:"
   ]
  },
  {
   "cell_type": "code",
   "execution_count": 86,
   "metadata": {},
   "outputs": [],
   "source": [
    "class My_Bike_Class:\n",
    "    \n",
    "    @property\n",
    "    def __doc__(self):\n",
    "        print(\"Defining dunder doc for my Bike class.\")\n",
    "    \n",
    "    # Initializer / Instance Attributes\n",
    "    def __init__(self, bike_type):\n",
    "        self.bike_type = bike_type"
   ]
  },
  {
   "cell_type": "code",
   "execution_count": 78,
   "metadata": {},
   "outputs": [],
   "source": [
    "bike = My_Bike_Class(\"not a bike?\")"
   ]
  },
  {
   "cell_type": "code",
   "execution_count": 79,
   "metadata": {},
   "outputs": [
    {
     "data": {
      "text/plain": [
       "'not a bike?'"
      ]
     },
     "execution_count": 79,
     "metadata": {},
     "output_type": "execute_result"
    }
   ],
   "source": [
    "bike.bike_type"
   ]
  },
  {
   "cell_type": "code",
   "execution_count": 80,
   "metadata": {},
   "outputs": [],
   "source": [
    "bike = My_Bike_Class(\"Definitely not guilty.\")"
   ]
  },
  {
   "cell_type": "code",
   "execution_count": 81,
   "metadata": {},
   "outputs": [
    {
     "data": {
      "text/plain": [
       "'Definitely not guilty.'"
      ]
     },
     "execution_count": 81,
     "metadata": {},
     "output_type": "execute_result"
    }
   ],
   "source": [
    "bike.bike_type"
   ]
  },
  {
   "cell_type": "code",
   "execution_count": 82,
   "metadata": {},
   "outputs": [],
   "source": [
    "bike = My_Bike_Class(\"666\")"
   ]
  },
  {
   "cell_type": "code",
   "execution_count": 83,
   "metadata": {},
   "outputs": [
    {
     "data": {
      "text/plain": [
       "'666'"
      ]
     },
     "execution_count": 83,
     "metadata": {},
     "output_type": "execute_result"
    }
   ],
   "source": [
    "bike.bike_type"
   ]
  },
  {
   "cell_type": "code",
   "execution_count": 84,
   "metadata": {},
   "outputs": [],
   "source": [
    "bike = My_Bike_Class(\"@#$%\")"
   ]
  },
  {
   "cell_type": "code",
   "execution_count": 85,
   "metadata": {},
   "outputs": [
    {
     "data": {
      "text/plain": [
       "'@#$%'"
      ]
     },
     "execution_count": 85,
     "metadata": {},
     "output_type": "execute_result"
    }
   ],
   "source": [
    "bike.bike_type"
   ]
  },
  {
   "cell_type": "markdown",
   "metadata": {},
   "source": [
    "## Class Attributes:"
   ]
  },
  {
   "cell_type": "code",
   "execution_count": 87,
   "metadata": {},
   "outputs": [],
   "source": [
    "class My_Bike_Class:\n",
    "    \n",
    "    @property\n",
    "    def __doc__(self):\n",
    "        print(\"Defining dunder doc for my Bike class.\")\n",
    "    \n",
    "    # Initializer / Instance Attributes\n",
    "    def __init__(self, bike_type):\n",
    "        self.bike_type = bike_type\n",
    "        \n",
    "    # Class Attribute\n",
    "    bike_material = \"Reinforced Gold Titanium Alloy.\""
   ]
  },
  {
   "cell_type": "markdown",
   "metadata": {},
   "source": [
    "### Our factory only makes bikes made out of Reinforced Gold Titanium Alloy. For a complete riding experience, give us a call at 666-666-6666. "
   ]
  },
  {
   "cell_type": "code",
   "execution_count": 89,
   "metadata": {},
   "outputs": [],
   "source": [
    "bike = My_Bike_Class(\"bike\")"
   ]
  },
  {
   "cell_type": "code",
   "execution_count": 90,
   "metadata": {},
   "outputs": [
    {
     "data": {
      "text/plain": [
       "'bike'"
      ]
     },
     "execution_count": 90,
     "metadata": {},
     "output_type": "execute_result"
    }
   ],
   "source": [
    "bike.bike_type"
   ]
  },
  {
   "cell_type": "code",
   "execution_count": 91,
   "metadata": {},
   "outputs": [
    {
     "data": {
      "text/plain": [
       "'Reinforced Gold Titanium Alloy.'"
      ]
     },
     "execution_count": 91,
     "metadata": {},
     "output_type": "execute_result"
    }
   ],
   "source": [
    "bike.bike_material"
   ]
  },
  {
   "cell_type": "code",
   "execution_count": 92,
   "metadata": {},
   "outputs": [],
   "source": [
    "cycle = My_Bike_Class(\"camouflaged among bikes\")"
   ]
  },
  {
   "cell_type": "code",
   "execution_count": 93,
   "metadata": {},
   "outputs": [
    {
     "data": {
      "text/plain": [
       "'camouflaged among bikes'"
      ]
     },
     "execution_count": 93,
     "metadata": {},
     "output_type": "execute_result"
    }
   ],
   "source": [
    "cycle.bike_type"
   ]
  },
  {
   "cell_type": "code",
   "execution_count": 94,
   "metadata": {},
   "outputs": [
    {
     "data": {
      "text/plain": [
       "'Reinforced Gold Titanium Alloy.'"
      ]
     },
     "execution_count": 94,
     "metadata": {},
     "output_type": "execute_result"
    }
   ],
   "source": [
    "cycle.bike_material"
   ]
  },
  {
   "cell_type": "code",
   "execution_count": 96,
   "metadata": {},
   "outputs": [],
   "source": [
    "bike1 = My_Bike_Class(\"bike\")\n",
    "bike2 = My_Bike_Class(\"bike\")"
   ]
  },
  {
   "cell_type": "code",
   "execution_count": 97,
   "metadata": {},
   "outputs": [
    {
     "data": {
      "text/plain": [
       "False"
      ]
     },
     "execution_count": 97,
     "metadata": {},
     "output_type": "execute_result"
    }
   ],
   "source": [
    "bike1 == bike2"
   ]
  },
  {
   "cell_type": "code",
   "execution_count": 98,
   "metadata": {},
   "outputs": [
    {
     "data": {
      "text/plain": [
       "__main__.My_Bike_Class"
      ]
     },
     "execution_count": 98,
     "metadata": {},
     "output_type": "execute_result"
    }
   ],
   "source": [
    "type(bike1)"
   ]
  },
  {
   "cell_type": "markdown",
   "metadata": {},
   "source": [
    "## Exercise from the link above:"
   ]
  },
  {
   "cell_type": "code",
   "execution_count": 99,
   "metadata": {},
   "outputs": [],
   "source": [
    "class Dog():\n",
    "    \n",
    "    def __init__(self, name, age):\n",
    "        self.name = name\n",
    "        self.age = age"
   ]
  },
  {
   "cell_type": "code",
   "execution_count": 100,
   "metadata": {},
   "outputs": [],
   "source": [
    "Doggo = Dog(\"Doggo\", 322)"
   ]
  },
  {
   "cell_type": "code",
   "execution_count": 101,
   "metadata": {},
   "outputs": [],
   "source": [
    "Doggy = Dog(\"Doggy\", 455)"
   ]
  },
  {
   "cell_type": "code",
   "execution_count": 102,
   "metadata": {},
   "outputs": [],
   "source": [
    "Puppy = Dog(\"Puppy\", 1)"
   ]
  },
  {
   "cell_type": "code",
   "execution_count": 107,
   "metadata": {},
   "outputs": [],
   "source": [
    "def get_biggest_number(*args):\n",
    "    return max(args)"
   ]
  },
  {
   "cell_type": "code",
   "execution_count": 108,
   "metadata": {},
   "outputs": [
    {
     "data": {
      "text/plain": [
       "4"
      ]
     },
     "execution_count": 108,
     "metadata": {},
     "output_type": "execute_result"
    }
   ],
   "source": [
    "get_biggest_number(2,3,4)"
   ]
  },
  {
   "cell_type": "code",
   "execution_count": 109,
   "metadata": {},
   "outputs": [
    {
     "data": {
      "text/plain": [
       "455"
      ]
     },
     "execution_count": 109,
     "metadata": {},
     "output_type": "execute_result"
    }
   ],
   "source": [
    "get_biggest_number(Doggo.age, Doggy.age, Puppy.age)"
   ]
  },
  {
   "cell_type": "code",
   "execution_count": 110,
   "metadata": {},
   "outputs": [
    {
     "name": "stdout",
     "output_type": "stream",
     "text": [
      "The oldest dog is 455 years old.\n"
     ]
    }
   ],
   "source": [
    "print(\"The oldest dog is {} years old.\".format(get_biggest_number(Doggo.age, Doggy.age, Puppy.age)))"
   ]
  },
  {
   "cell_type": "markdown",
   "metadata": {},
   "source": [
    "## Instance method:"
   ]
  },
  {
   "cell_type": "code",
   "execution_count": 156,
   "metadata": {},
   "outputs": [],
   "source": [
    "class My_Bike_Class:\n",
    "    \n",
    "    @property\n",
    "    def __doc__(self):\n",
    "        print(\"Defining dunder doc for my Bike class.\")\n",
    "    \n",
    "    # Initializer / Instance Attributes\n",
    "    def __init__(self, bike_type):\n",
    "        self.bike_type = bike_type\n",
    "        \n",
    "    # Class Attribute\n",
    "    bike_material = \"Reinforced Gold Titanium Alloy\"\n",
    "    \n",
    "    #Instance method\n",
    "    def show_my_bike(self, bike_material, bike_type):\n",
    "        return print(\"Bike is made of {0}. This is a {1} bike.\".format(self.bike_material, self.bike_type))\n",
    "    \n",
    "    #Instance method\n",
    "    def does_bike_move(self, bike_type):\n",
    "        if self.bike_type == \"exercise\":\n",
    "            return print(\"No. Bikes, move they cannot.\")\n",
    "        else:\n",
    "            return print(\"Yes. Bikes, move they can.\")"
   ]
  },
  {
   "cell_type": "code",
   "execution_count": 157,
   "metadata": {},
   "outputs": [],
   "source": [
    "bike = My_Bike_Class(\"bikey\")"
   ]
  },
  {
   "cell_type": "code",
   "execution_count": 158,
   "metadata": {},
   "outputs": [
    {
     "name": "stdout",
     "output_type": "stream",
     "text": [
      "Bike is made of Reinforced Gold Titanium Alloy. This is a bikey bike.\n"
     ]
    }
   ],
   "source": [
    "bike.show_my_bike(bike.bike_material, bike.bike_type)"
   ]
  },
  {
   "cell_type": "code",
   "execution_count": 159,
   "metadata": {},
   "outputs": [
    {
     "name": "stdout",
     "output_type": "stream",
     "text": [
      "Yes. Bikes, move they can.\n"
     ]
    }
   ],
   "source": [
    "bike.does_bike_move(bike.bike_type)"
   ]
  },
  {
   "cell_type": "code",
   "execution_count": 160,
   "metadata": {},
   "outputs": [],
   "source": [
    "exercise_bike = My_Bike_Class(\"exercise\")"
   ]
  },
  {
   "cell_type": "code",
   "execution_count": 161,
   "metadata": {},
   "outputs": [
    {
     "name": "stdout",
     "output_type": "stream",
     "text": [
      "No. Bikes, move they cannot.\n"
     ]
    }
   ],
   "source": [
    "exercise_bike.does_bike_move(exercise_bike.bike_type)"
   ]
  },
  {
   "cell_type": "markdown",
   "metadata": {},
   "source": [
    "## Modifying attributes:"
   ]
  },
  {
   "cell_type": "code",
   "execution_count": 231,
   "metadata": {},
   "outputs": [],
   "source": [
    "class My_Bike_Class:\n",
    "    \n",
    "    @property\n",
    "    def __doc__(self):\n",
    "        print(\"Defining dunder doc for my Bike class.\")\n",
    "    \n",
    "    # Initializer / Instance Attributes\n",
    "    def __init__(self, bike_type):\n",
    "        self.bike_type = bike_type\n",
    "        self.autobot_transform = False\n",
    "        self.decepticon_transform = False\n",
    "        \n",
    "    # Class Attribute\n",
    "    bike_material = \"Reinforced Gold Titanium Alloy\"\n",
    "    \n",
    "    #Instance method\n",
    "    def show_my_bike(self, bike_type):\n",
    "        return print(\"Bike is made of {0}. This is a {1} bike.\".format(self.bike_material, self.bike_type))\n",
    "    \n",
    "    #Instance method\n",
    "    def does_bike_move(self, bike_type):\n",
    "        if self.bike_type == \"exercise\":\n",
    "            return print(\"No. Bikes, move they cannot.\")\n",
    "        else:\n",
    "            return print(\"Yes. Bikes, move they can.\")\n",
    "    \n",
    "    #Modifying attributes\n",
    "    def reveal_true_nature(self):\n",
    "        a = input(\"Make your choice. Enter the word autobot to become an autobot. Enter the word decepticon to become a decepticon. Choose Wisely, young pedawan. \")\n",
    "        self.decepticon_transform = True\n",
    "        if a == \"autobot\":\n",
    "            print(\"Welcome to your first day as a Decepticon. If you have complaints about our recruitment process, please note that it's a feature and not a bug.\")\n",
    "        else:\n",
    "            print(\"Welcome to your first day as a Decepticon. You are rotten inside. Pick autobots, you edgy degenerate.\")"
   ]
  },
  {
   "cell_type": "code",
   "execution_count": 232,
   "metadata": {},
   "outputs": [],
   "source": [
    "bike = My_Bike_Class(\"bike\")"
   ]
  },
  {
   "cell_type": "code",
   "execution_count": 233,
   "metadata": {},
   "outputs": [
    {
     "data": {
      "text/plain": [
       "False"
      ]
     },
     "execution_count": 233,
     "metadata": {},
     "output_type": "execute_result"
    }
   ],
   "source": [
    "bike.decepticon_transform"
   ]
  },
  {
   "cell_type": "code",
   "execution_count": 234,
   "metadata": {},
   "outputs": [
    {
     "name": "stdout",
     "output_type": "stream",
     "text": [
      "Make your choice. Enter the word autobot to become an autobot. Enter the word decepticon to become a decepticon. Choose Wisely, young pedawan. \n",
      "Welcome to your first day as a Decepticon. You are rotten inside. Pick autobots, you edgy degenerate.\n"
     ]
    }
   ],
   "source": [
    "bike.reveal_true_nature()"
   ]
  },
  {
   "cell_type": "code",
   "execution_count": 235,
   "metadata": {},
   "outputs": [
    {
     "data": {
      "text/plain": [
       "True"
      ]
     },
     "execution_count": 235,
     "metadata": {},
     "output_type": "execute_result"
    }
   ],
   "source": [
    "bike.decepticon_transform"
   ]
  },
  {
   "cell_type": "markdown",
   "metadata": {},
   "source": [
    "## Object Inheritance:\n",
    "\n",
    "#### Also made some fixes to the code above."
   ]
  },
  {
   "cell_type": "code",
   "execution_count": 241,
   "metadata": {},
   "outputs": [],
   "source": [
    "class My_Bike_Class:\n",
    "    \n",
    "    @property\n",
    "    def __doc__(self):\n",
    "        print(\"Defining dunder doc for my Bike class.\")\n",
    "    \n",
    "    # Initializer / Instance Attributes\n",
    "    def __init__(self, bike_type):\n",
    "        self.bike_type = bike_type\n",
    "        self.autobot_transform = False\n",
    "        self.decepticon_transform = False\n",
    "        \n",
    "    # Class Attribute\n",
    "    bike_material = \"Reinforced Gold Titanium Alloy\"\n",
    "    \n",
    "    #Instance method\n",
    "    def show_my_bike(self):\n",
    "        return print(\"Bike is made of {0}. This is a {1} bike.\".format(self.bike_material, self.bike_type))\n",
    "    \n",
    "    #Instance method\n",
    "    def does_bike_move(self):\n",
    "        if self.bike_type == \"exercise\":\n",
    "            return print(\"No. Bikes, move they cannot.\")\n",
    "        else:\n",
    "            return print(\"Yes. Bikes, move they can.\")\n",
    "    \n",
    "    #Modifying attributes\n",
    "    def reveal_true_nature(self):\n",
    "        a = input(\"Make your choice. Enter the word autobot to become an autobot. Enter the word decepticon to become a decepticon. Choose Wisely, young pedawan. \")\n",
    "        self.decepticon_transform = True\n",
    "        if a == \"autobot\":\n",
    "            print(\"Welcome to your first day as a Decepticon. If you have complaints about our recruitment process, please note that it's a feature and not a bug.\")\n",
    "        else:\n",
    "            print(\"Welcome to your first day as a Decepticon. You are rotten inside. Pick autobots, you edgy degenerate.\")\n",
    "            \n",
    "\n",
    "            \n",
    "class Decepticon(My_Bike_Class):\n",
    "    #Due to popular public demand, Decepticons can fly. Decepticons are widely recognised as a kind of bike.        \n",
    "    def fly(self, speed):\n",
    "        self.speed = speed\n",
    "        print(\"{} flies at {} speed.\".format(self.bike_type, self.speed))\n",
    "        \n",
    "class Autobot(My_Bike_Class):\n",
    "    #Who are these guys again?\n",
    "    def fly(self, speed):\n",
    "        self.speed = 0\n",
    "        print(\"Autobots do not fly. Autobots do not exist. Einstein once said - A thing can only fly if it exists.\")"
   ]
  },
  {
   "cell_type": "code",
   "execution_count": 242,
   "metadata": {},
   "outputs": [],
   "source": [
    "starscream = Decepticon(\"cool guy\")"
   ]
  },
  {
   "cell_type": "code",
   "execution_count": 243,
   "metadata": {},
   "outputs": [
    {
     "name": "stdout",
     "output_type": "stream",
     "text": [
      "cool guy flies at over 9000 speed.\n"
     ]
    }
   ],
   "source": [
    "starscream.fly(\"over 9000\")"
   ]
  },
  {
   "cell_type": "code",
   "execution_count": 244,
   "metadata": {},
   "outputs": [
    {
     "name": "stdout",
     "output_type": "stream",
     "text": [
      "Bike is made of Reinforced Gold Titanium Alloy. This is a cool guy bike.\n"
     ]
    }
   ],
   "source": [
    "starscream.show_my_bike()"
   ]
  },
  {
   "cell_type": "code",
   "execution_count": 240,
   "metadata": {},
   "outputs": [
    {
     "name": "stdout",
     "output_type": "stream",
     "text": [
      "Yes. Bikes, move they can.\n"
     ]
    }
   ],
   "source": [
    "starscream.does_bike_move()"
   ]
  },
  {
   "cell_type": "code",
   "execution_count": 246,
   "metadata": {},
   "outputs": [],
   "source": [
    "jetfire = Autobot(\"loser\")"
   ]
  },
  {
   "cell_type": "code",
   "execution_count": 248,
   "metadata": {},
   "outputs": [
    {
     "name": "stdout",
     "output_type": "stream",
     "text": [
      "Autobots do not fly. Autobots do not exist. Einstein once said - A thing can only fly if it exists.\n"
     ]
    }
   ],
   "source": [
    "jetfire.fly(\"9000\")"
   ]
  },
  {
   "cell_type": "code",
   "execution_count": 249,
   "metadata": {},
   "outputs": [
    {
     "name": "stdout",
     "output_type": "stream",
     "text": [
      "Bike is made of Reinforced Gold Titanium Alloy. This is a loser bike.\n"
     ]
    }
   ],
   "source": [
    "jetfire.show_my_bike()"
   ]
  },
  {
   "cell_type": "code",
   "execution_count": 250,
   "metadata": {},
   "outputs": [
    {
     "name": "stdout",
     "output_type": "stream",
     "text": [
      "Yes. Bikes, move they can.\n"
     ]
    }
   ],
   "source": [
    "jetfire.does_bike_move()"
   ]
  },
  {
   "cell_type": "markdown",
   "metadata": {},
   "source": [
    "## Isintance usage:"
   ]
  },
  {
   "cell_type": "code",
   "execution_count": 252,
   "metadata": {},
   "outputs": [
    {
     "name": "stdout",
     "output_type": "stream",
     "text": [
      "True\n"
     ]
    }
   ],
   "source": [
    "print(isinstance(jetfire, My_Bike_Class))"
   ]
  },
  {
   "cell_type": "code",
   "execution_count": 253,
   "metadata": {},
   "outputs": [
    {
     "name": "stdout",
     "output_type": "stream",
     "text": [
      "True\n"
     ]
    }
   ],
   "source": [
    "print(isinstance(jetfire, Autobot))"
   ]
  },
  {
   "cell_type": "code",
   "execution_count": 254,
   "metadata": {},
   "outputs": [
    {
     "name": "stdout",
     "output_type": "stream",
     "text": [
      "False\n"
     ]
    }
   ],
   "source": [
    "print(isinstance(jetfire, Decepticon))"
   ]
  },
  {
   "cell_type": "code",
   "execution_count": 255,
   "metadata": {},
   "outputs": [
    {
     "ename": "TypeError",
     "evalue": "isinstance() arg 2 must be a type or tuple of types",
     "output_type": "error",
     "traceback": [
      "\u001b[1;31m---------------------------------------------------------------------------\u001b[0m",
      "\u001b[1;31mTypeError\u001b[0m                                 Traceback (most recent call last)",
      "\u001b[1;32m<ipython-input-255-81f94d2cc8c9>\u001b[0m in \u001b[0;36m<module>\u001b[1;34m()\u001b[0m\n\u001b[1;32m----> 1\u001b[1;33m \u001b[0mprint\u001b[0m\u001b[1;33m(\u001b[0m\u001b[0misinstance\u001b[0m\u001b[1;33m(\u001b[0m\u001b[0mjetfire\u001b[0m\u001b[1;33m,\u001b[0m \u001b[0mstarscream\u001b[0m\u001b[1;33m)\u001b[0m\u001b[1;33m)\u001b[0m\u001b[1;33m\u001b[0m\u001b[0m\n\u001b[0m",
      "\u001b[1;31mTypeError\u001b[0m: isinstance() arg 2 must be a type or tuple of types"
     ]
    }
   ],
   "source": [
    "print(isinstance(jetfire, starscream))"
   ]
  },
  {
   "cell_type": "markdown",
   "metadata": {},
   "source": [
    "# Overriding:"
   ]
  },
  {
   "cell_type": "code",
   "execution_count": 259,
   "metadata": {},
   "outputs": [],
   "source": [
    "class My_Bike_Class:\n",
    "    \n",
    "    @property\n",
    "    def __doc__(self):\n",
    "        print(\"Defining dunder doc for my Bike class.\")\n",
    "    \n",
    "    # Initializer / Instance Attributes\n",
    "    def __init__(self, bike_type):\n",
    "        self.bike_type = bike_type\n",
    "        \n",
    "    # Class Attribute\n",
    "    bike_material = \"Reinforced Gold Titanium Alloy\"\n",
    "    autobot_transform = False\n",
    "    decepticon_transform = False\n",
    "    \n",
    "    #Instance method\n",
    "    def show_my_bike(self):\n",
    "        return print(\"Bike is made of {0}. This is a {1} bike.\".format(self.bike_material, self.bike_type))\n",
    "    \n",
    "    #Instance method\n",
    "    def does_bike_move(self):\n",
    "        if self.bike_type == \"exercise\":\n",
    "            return print(\"No. Bikes, move they cannot.\")\n",
    "        else:\n",
    "            return print(\"Yes. Bikes, move they can.\")\n",
    "    \n",
    "    #Modifying attributes\n",
    "    def reveal_true_nature(self):\n",
    "        a = input(\"Make your choice. Enter the word autobot to become an autobot. Enter the word decepticon to become a decepticon. Choose Wisely, young pedawan. \")\n",
    "        self.decepticon_transform = True\n",
    "        if a == \"autobot\":\n",
    "            print(\"Welcome to your first day as a Decepticon. If you have complaints about our recruitment process, please note that it's a feature and not a bug.\")\n",
    "        else:\n",
    "            print(\"Welcome to your first day as a Decepticon. You are rotten inside. Pick autobots, you edgy degenerate.\")\n",
    "            \n",
    "\n",
    "            \n",
    "class Decepticon(My_Bike_Class):\n",
    "    #Due to popular public demand, Decepticons can fly. Decepticons are widely recognised as a kind of bike.        \n",
    "    def fly(self, speed):\n",
    "        self.speed = speed\n",
    "        print(\"{} flies at {} speed.\".format(self.bike_type, self.speed))\n",
    "    \n",
    "    autobot_transform = False\n",
    "    decepticon_transform = True\n",
    "        \n",
    "class Autobot(My_Bike_Class):\n",
    "    #Who are these guys again?\n",
    "    def fly(self, speed):\n",
    "        self.speed = 0\n",
    "        print(\"Autobots do not fly. Autobots do not exist. Einstein once said - A thing can only fly if it exists.\")\n",
    "    \n",
    "    autobot_transform = True\n",
    "    decepticon_transform = False"
   ]
  },
  {
   "cell_type": "markdown",
   "metadata": {},
   "source": [
    "#### Changes autobot_transform and decepticon_transform from instance attribute to class attribute to make it work. Could also have over written dunder init."
   ]
  },
  {
   "cell_type": "code",
   "execution_count": 260,
   "metadata": {},
   "outputs": [],
   "source": [
    "class My_Bike_Class:\n",
    "    \n",
    "    @property\n",
    "    def __doc__(self):\n",
    "        print(\"Defining dunder doc for my Bike class.\")\n",
    "        \n",
    "    # Initializer / Instance Attributes\n",
    "    def __init__(self, bike_type):\n",
    "        self.bike_type = bike_type\n",
    "        autobot_transform = False\n",
    "        decepticon_transform = False\n",
    "        \n",
    "    # Class Attribute\n",
    "    bike_material = \"Reinforced Gold Titanium Alloy\"\n",
    "    \n",
    "    \n",
    "    #Instance method\n",
    "    def show_my_bike(self):\n",
    "        return print(\"Bike is made of {0}. This is a {1} bike.\".format(self.bike_material, self.bike_type))\n",
    "    \n",
    "    #Instance method\n",
    "    def does_bike_move(self):\n",
    "        if self.bike_type == \"exercise\":\n",
    "            return print(\"No. Bikes, move they cannot.\")\n",
    "        else:\n",
    "            return print(\"Yes. Bikes, move they can.\")\n",
    "    \n",
    "    #Modifying attributes\n",
    "    def reveal_true_nature(self):\n",
    "        a = input(\"Make your choice. Enter the word autobot to become an autobot. Enter the word decepticon to become a decepticon. Choose Wisely, young pedawan. \")\n",
    "        self.decepticon_transform = True\n",
    "        if a == \"autobot\":\n",
    "            print(\"Welcome to your first day as a Decepticon. If you have complaints about our recruitment process, please note that it's a feature and not a bug.\")\n",
    "        else:\n",
    "            print(\"Welcome to your first day as a Decepticon. You are rotten inside. Pick autobots, you edgy degenerate.\")\n",
    "            \n",
    "\n",
    "            \n",
    "class Decepticon(My_Bike_Class):\n",
    "    #Due to popular public demand, Decepticons can fly. Decepticons are widely recognised as a kind of bike.\n",
    "    def __init__(self, bike_type):\n",
    "        self.bike_type = bike_type\n",
    "        autobot_transform = False\n",
    "        decepticon_transform = True\n",
    "        \n",
    "    def fly(self, speed):\n",
    "        self.speed = speed\n",
    "        print(\"{} flies at {} speed.\".format(self.bike_type, self.speed))\n",
    "        \n",
    "class Autobot(My_Bike_Class):\n",
    "    #Who are these guys again?\n",
    "    \n",
    "    def __init__(self, bike_type):\n",
    "        self.bike_type = bike_type\n",
    "        autobot_transform = True\n",
    "        decepticon_transform = False\n",
    "        \n",
    "    def fly(self, speed):\n",
    "        self.speed = 0\n",
    "        print(\"Autobots do not fly. Autobots do not exist. Einstein once said - A thing can only fly if it exists.\")"
   ]
  },
  {
   "cell_type": "markdown",
   "metadata": {},
   "source": [
    "# Exercise -\n",
    "### add a walk() method to both the Pets and Dog classes so that when you call the method on the Pets class, each dog instance assigned to the Pets class will walk().:"
   ]
  },
  {
   "cell_type": "code",
   "execution_count": 291,
   "metadata": {},
   "outputs": [],
   "source": [
    "# Parent class\n",
    "class Pets:\n",
    "\n",
    "    dogs = []\n",
    "\n",
    "    def __init__(self, dogs):\n",
    "        self.dogs = dogs\n",
    "    \n",
    "    def walk(self):\n",
    "        for i in self.dogs:\n",
    "            print(i.walk())\n",
    "\n",
    "# Parent class\n",
    "class Dog:\n",
    "\n",
    "    # Class attribute\n",
    "    species = 'mammal'\n",
    "\n",
    "    # Initializer / Instance attributes\n",
    "    def __init__(self, name, age):\n",
    "        self.name = name\n",
    "        self.age = age\n",
    "        self.is_hungry = True\n",
    "\n",
    "    # Instance method\n",
    "    def description(self):\n",
    "        return self.name, self.age\n",
    "\n",
    "    # Instance method\n",
    "    def speak(self, sound):\n",
    "        return \"%s says %s\" % (self.name, sound)\n",
    "\n",
    "    # Instance method\n",
    "    def eat(self):\n",
    "        self.is_hungry = False\n",
    "        \n",
    "    def walk(self):\n",
    "        return \"{} is walking!\".format(self.name)\n",
    "\n",
    "\n",
    "# Child class (inherits from Dog class)\n",
    "class RussellTerrier(Dog):\n",
    "    def run(self, speed):\n",
    "        return \"%s runs %s\" % (self.name, speed)\n",
    "\n",
    "\n",
    "# Child class (inherits from Dog class)\n",
    "class Bulldog(Dog):\n",
    "    def run(self, speed):\n",
    "        return \"%s runs %s\" % (self.name, speed)\n",
    "\n",
    "# Create instances of dogs\n",
    "my_dogs = [\n",
    "    Bulldog(\"Tom\", 6), \n",
    "    RussellTerrier(\"Fletcher\", 7), \n",
    "    Dog(\"Larry\", 9)\n",
    "]\n",
    "\n",
    "# Instantiate the Pets class\n",
    "my_pets = Pets(my_dogs)\n",
    "\n",
    "# # Output\n",
    "# print(\"I have {} dogs.\".format(len(my_pets.dogs)))\n",
    "# for dog in my_pets.dogs:\n",
    "#     dog.eat()\n",
    "#     print(\"{} is {}.\".format(dog.name, dog.age))\n",
    "\n",
    "# print(\"And they're all {}s, of course.\".format(dog.species))\n",
    "\n",
    "# are_my_dogs_hungry = False\n",
    "# for dog in my_pets.dogs:\n",
    "#     if dog.is_hungry:\n",
    "#         are_my_dogs_hungry = True\n",
    "\n",
    "# if are_my_dogs_hungry:\n",
    "#     print(\"My dogs are hungry.\")\n",
    "# else:\n",
    "#     print(\"My dogs are not hungry.\")"
   ]
  },
  {
   "cell_type": "code",
   "execution_count": 292,
   "metadata": {},
   "outputs": [],
   "source": [
    "my_pets = Pets(my_dogs)"
   ]
  },
  {
   "cell_type": "code",
   "execution_count": 293,
   "metadata": {},
   "outputs": [
    {
     "name": "stdout",
     "output_type": "stream",
     "text": [
      "Tom is walking!\n",
      "Fletcher is walking!\n",
      "Larry is walking!\n"
     ]
    }
   ],
   "source": [
    "my_pets.walk()"
   ]
  },
  {
   "cell_type": "markdown",
   "metadata": {},
   "source": [
    "## read this as revision and to cover bases: \n",
    "https://www.programiz.com/python-programming/object-oriented-programming"
   ]
  },
  {
   "cell_type": "markdown",
   "metadata": {},
   "source": [
    "# How to user super():"
   ]
  },
  {
   "cell_type": "code",
   "execution_count": 299,
   "metadata": {},
   "outputs": [],
   "source": [
    "class My_Bike_Class:\n",
    "    \n",
    "    @property\n",
    "    def __doc__(self):\n",
    "        print(\"Defining dunder doc for my Bike class.\")\n",
    "        \n",
    "    # Initializer / Instance Attributes\n",
    "    def __init__(self, bike_type):\n",
    "        self.bike_type = bike_type\n",
    "        autobot_transform = False\n",
    "        decepticon_transform = False\n",
    "        \n",
    "    # Class Attribute\n",
    "    bike_material = \"Reinforced Gold Titanium Alloy\"\n",
    "    \n",
    "    \n",
    "    #Instance method\n",
    "    def show_my_bike(self):\n",
    "        return print(\"Bike is made of {0}. This is a {1} bike.\".format(self.bike_material, self.bike_type))\n",
    "    \n",
    "    #Instance method\n",
    "    def does_bike_move(self):\n",
    "        if self.bike_type == \"exercise\":\n",
    "            return print(\"No. Bikes, move they cannot.\")\n",
    "        else:\n",
    "            return print(\"Yes. Bikes, move they can.\")\n",
    "    \n",
    "    #Modifying attributes\n",
    "    def reveal_true_nature(self):\n",
    "        a = input(\"Make your choice. Enter the word autobot to become an autobot. Enter the word decepticon to become a decepticon. Choose Wisely, young pedawan. \")\n",
    "        self.decepticon_transform = True\n",
    "        if a == \"autobot\":\n",
    "            print(\"Welcome to your first day as a Decepticon. If you have complaints about our recruitment process, please note that it's a feature and not a bug.\")\n",
    "        else:\n",
    "            print(\"Welcome to your first day as a Decepticon. You are rotten inside. Pick autobots, you edgy degenerate.\")\n",
    "            \n",
    "\n",
    "            \n",
    "class Decepticon(My_Bike_Class):\n",
    "    #Due to popular public demand, Decepticons can fly. Decepticons are widely recognised as a kind of bike.\n",
    "    def __init__(self, bike_type):\n",
    "        super().__init__(bike_type)\n",
    "        print(\"am Decepticon\")\n",
    "        autobot_transform = False\n",
    "        decepticon_transform = True\n",
    "        \n",
    "    def fly(self, speed):\n",
    "        self.speed = speed\n",
    "        print(\"{} flies at {} speed.\".format(self.bike_type, self.speed))\n",
    "        \n",
    "class Autobot(My_Bike_Class):\n",
    "    #Who are these guys again?\n",
    "    \n",
    "    def __init__(self, bike_type):\n",
    "        print(\"am lame bot\")\n",
    "        super().__init__(bike_type)\n",
    "        autobot_transform = True\n",
    "        decepticon_transform = False\n",
    "        \n",
    "    def fly(self, speed):\n",
    "        self.speed = 0\n",
    "        print(\"Autobots do not fly. Autobots do not exist. Einstein once said - A thing can only fly if it exists.\")"
   ]
  },
  {
   "cell_type": "code",
   "execution_count": 300,
   "metadata": {},
   "outputs": [
    {
     "name": "stdout",
     "output_type": "stream",
     "text": [
      "am Decepticon\n"
     ]
    }
   ],
   "source": [
    "megatron = Decepticon(\"boss man\")"
   ]
  },
  {
   "cell_type": "code",
   "execution_count": 301,
   "metadata": {},
   "outputs": [
    {
     "name": "stdout",
     "output_type": "stream",
     "text": [
      "am lame bot\n"
     ]
    }
   ],
   "source": [
    "optimus = Autobot(\"lame boss man\")"
   ]
  },
  {
   "cell_type": "markdown",
   "metadata": {},
   "source": [
    "# Encapsulation:"
   ]
  },
  {
   "cell_type": "markdown",
   "metadata": {},
   "source": [
    "Private attributes are denoted by using single or double prefixed underscores."
   ]
  },
  {
   "cell_type": "code",
   "execution_count": 362,
   "metadata": {},
   "outputs": [],
   "source": [
    "class My_Bike_Class:\n",
    "    \n",
    "    @property\n",
    "    def __doc__(self):\n",
    "        print(\"Defining dunder doc for my Bike class.\")\n",
    "        \n",
    "    # Initializer / Instance Attributes\n",
    "    def __init__(self, bike_type):\n",
    "        self.bike_type = bike_type\n",
    "        autobot_transform = False\n",
    "        decepticon_transform = False\n",
    "        \n",
    "    # Class Attribute\n",
    "    bike_material = \"Reinforced Gold Titanium Alloy\"\n",
    "    \n",
    "    \n",
    "    #Instance method\n",
    "    def show_my_bike(self):\n",
    "        return print(\"Bike is made of {0}. This is a {1} bike.\".format(self.bike_material, self.bike_type))\n",
    "    \n",
    "    #Instance method\n",
    "    def does_bike_move(self):\n",
    "        if self.bike_type == \"exercise\":\n",
    "            return print(\"No. Bikes, move they cannot.\")\n",
    "        else:\n",
    "            return print(\"Yes. Bikes, move they can.\")\n",
    "    \n",
    "    #Modifying attributes\n",
    "    def reveal_true_nature(self):\n",
    "        a = input(\"Make your choice. Enter the word autobot to become an autobot. Enter the word decepticon to become a decepticon. Choose Wisely, young pedawan. \")\n",
    "        self.decepticon_transform = True\n",
    "        if a == \"autobot\":\n",
    "            print(\"Welcome to your first day as a Decepticon. If you have complaints about our recruitment process, please note that it's a feature and not a bug.\")\n",
    "        else:\n",
    "            print(\"Welcome to your first day as a Decepticon. You are rotten inside. Pick autobots, you edgy degenerate.\")\n",
    "            \n",
    "\n",
    "            \n",
    "class Decepticon(My_Bike_Class):\n",
    "    #Due to popular public demand, Decepticons can fly. Decepticons are widely recognised as a kind of bike.\n",
    "    def __init__(self, bike_type):\n",
    "        super().__init__(bike_type)\n",
    "        print(\"am Decepticon\")\n",
    "        autobot_transform = False\n",
    "        decepticon_transform = True\n",
    "        \n",
    "    def fly(self):\n",
    "        self.__speed = \"over 9000\"\n",
    "        print(\"{} flies at {} speed.\".format(self.bike_type, self.__speed))\n",
    "        \n",
    "    def set_fly_speed(self,new_speed):\n",
    "        self.__speed = new_speed\n",
    "        \n",
    "class Autobot(My_Bike_Class):\n",
    "    #Who are these guys again?\n",
    "    \n",
    "    def __init__(self, bike_type):\n",
    "        print(\"am lame bot\")\n",
    "        super().__init__(bike_type)\n",
    "        autobot_transform = True\n",
    "        decepticon_transform = False\n",
    "        \n",
    "    def fly(self, speed):\n",
    "        self.speed = 0\n",
    "        print(\"Autobots do not fly. Autobots do not exist. Einstein once said - A thing can only fly if it exists.\")"
   ]
  },
  {
   "cell_type": "code",
   "execution_count": 363,
   "metadata": {},
   "outputs": [
    {
     "name": "stdout",
     "output_type": "stream",
     "text": [
      "am Decepticon\n",
      "am lame bot\n"
     ]
    }
   ],
   "source": [
    "starscream = Decepticon(\"cool\")\n",
    "jetfire = Autobot(\"not cool\")"
   ]
  },
  {
   "cell_type": "code",
   "execution_count": 364,
   "metadata": {},
   "outputs": [
    {
     "name": "stdout",
     "output_type": "stream",
     "text": [
      "Autobots do not fly. Autobots do not exist. Einstein once said - A thing can only fly if it exists.\n"
     ]
    }
   ],
   "source": [
    "jetfire.fly(\"300\")"
   ]
  },
  {
   "cell_type": "code",
   "execution_count": 365,
   "metadata": {},
   "outputs": [
    {
     "data": {
      "text/plain": [
       "0"
      ]
     },
     "execution_count": 365,
     "metadata": {},
     "output_type": "execute_result"
    }
   ],
   "source": [
    "jetfire.speed"
   ]
  },
  {
   "cell_type": "code",
   "execution_count": 366,
   "metadata": {},
   "outputs": [],
   "source": [
    "jetfire.speed = 300"
   ]
  },
  {
   "cell_type": "code",
   "execution_count": 367,
   "metadata": {},
   "outputs": [
    {
     "data": {
      "text/plain": [
       "300"
      ]
     },
     "execution_count": 367,
     "metadata": {},
     "output_type": "execute_result"
    }
   ],
   "source": [
    "jetfire.speed"
   ]
  },
  {
   "cell_type": "code",
   "execution_count": 368,
   "metadata": {},
   "outputs": [
    {
     "name": "stdout",
     "output_type": "stream",
     "text": [
      "cool flies at over 9000 speed.\n"
     ]
    }
   ],
   "source": [
    "starscream.fly()"
   ]
  },
  {
   "cell_type": "code",
   "execution_count": 372,
   "metadata": {},
   "outputs": [
    {
     "ename": "AttributeError",
     "evalue": "'Decepticon' object has no attribute '__speed'",
     "output_type": "error",
     "traceback": [
      "\u001b[1;31m---------------------------------------------------------------------------\u001b[0m",
      "\u001b[1;31mAttributeError\u001b[0m                            Traceback (most recent call last)",
      "\u001b[1;32m<ipython-input-372-31aac126b073>\u001b[0m in \u001b[0;36m<module>\u001b[1;34m()\u001b[0m\n\u001b[1;32m----> 1\u001b[1;33m \u001b[0mstarscream\u001b[0m\u001b[1;33m.\u001b[0m\u001b[0m__speed\u001b[0m\u001b[1;33m\u001b[0m\u001b[0m\n\u001b[0m",
      "\u001b[1;31mAttributeError\u001b[0m: 'Decepticon' object has no attribute '__speed'"
     ]
    }
   ],
   "source": [
    "starscream.__speed"
   ]
  },
  {
   "cell_type": "code",
   "execution_count": 351,
   "metadata": {},
   "outputs": [],
   "source": [
    "starscream.__speed = 10000"
   ]
  },
  {
   "cell_type": "code",
   "execution_count": 352,
   "metadata": {},
   "outputs": [
    {
     "data": {
      "text/plain": [
       "10000"
      ]
     },
     "execution_count": 352,
     "metadata": {},
     "output_type": "execute_result"
    }
   ],
   "source": [
    "starscream.__speed"
   ]
  },
  {
   "cell_type": "code",
   "execution_count": 375,
   "metadata": {},
   "outputs": [],
   "source": [
    "starscream.set_fly_speed(\"1000\")"
   ]
  },
  {
   "cell_type": "code",
   "execution_count": 376,
   "metadata": {},
   "outputs": [
    {
     "ename": "AttributeError",
     "evalue": "'Decepticon' object has no attribute '__speed'",
     "output_type": "error",
     "traceback": [
      "\u001b[1;31m---------------------------------------------------------------------------\u001b[0m",
      "\u001b[1;31mAttributeError\u001b[0m                            Traceback (most recent call last)",
      "\u001b[1;32m<ipython-input-376-31aac126b073>\u001b[0m in \u001b[0;36m<module>\u001b[1;34m()\u001b[0m\n\u001b[1;32m----> 1\u001b[1;33m \u001b[0mstarscream\u001b[0m\u001b[1;33m.\u001b[0m\u001b[0m__speed\u001b[0m\u001b[1;33m\u001b[0m\u001b[0m\n\u001b[0m",
      "\u001b[1;31mAttributeError\u001b[0m: 'Decepticon' object has no attribute '__speed'"
     ]
    }
   ],
   "source": [
    "starscream.__speed"
   ]
  },
  {
   "cell_type": "code",
   "execution_count": 410,
   "metadata": {},
   "outputs": [],
   "source": [
    "class My_Bike_Class:\n",
    "    \n",
    "    @property\n",
    "    def __doc__(self):\n",
    "        print(\"Defining dunder doc for my Bike class.\")\n",
    "        \n",
    "    # Initializer / Instance Attributes\n",
    "    def __init__(self, bike_type):\n",
    "        self.bike_type = bike_type\n",
    "        autobot_transform = False\n",
    "        decepticon_transform = False\n",
    "        \n",
    "    # Class Attribute\n",
    "    bike_material = \"Reinforced Gold Titanium Alloy\"\n",
    "    \n",
    "    \n",
    "    #Instance method\n",
    "    def show_my_bike(self):\n",
    "        return print(\"Bike is made of {0}. This is a {1} bike.\".format(self.bike_material, self.bike_type))\n",
    "    \n",
    "    #Instance method\n",
    "    def does_bike_move(self):\n",
    "        if self.bike_type == \"exercise\":\n",
    "            return print(\"No. Bikes, move they cannot.\")\n",
    "        else:\n",
    "            return print(\"Yes. Bikes, move they can.\")\n",
    "    \n",
    "    #Modifying attributes\n",
    "    def reveal_true_nature(self):\n",
    "        a = input(\"Make your choice. Enter the word autobot to become an autobot. Enter the word decepticon to become a decepticon. Choose Wisely, young pedawan. \")\n",
    "        self.decepticon_transform = True\n",
    "        if a == \"autobot\":\n",
    "            print(\"Welcome to your first day as a Decepticon. If you have complaints about our recruitment process, please note that it's a feature and not a bug.\")\n",
    "        else:\n",
    "            print(\"Welcome to your first day as a Decepticon. You are rotten inside. Pick autobots, you edgy degenerate.\")\n",
    "            \n",
    "\n",
    "            \n",
    "class Decepticon(My_Bike_Class):\n",
    "    #Due to popular public demand, Decepticons can fly. Decepticons are widely recognised as a kind of bike.\n",
    "    def __init__(self, bike_type):\n",
    "        super().__init__(bike_type)\n",
    "        print(\"am Decepticon\")\n",
    "        autobot_transform = False\n",
    "        decepticon_transform = True\n",
    "        self.__speed = \"over 9000\"\n",
    "        \n",
    "    def fly(self):\n",
    "        print(\"{} flies at {} speed.\".format(self.bike_type, self.speed))\n",
    "        \n",
    "    def set_fly_speed(self,new_speed):\n",
    "        self.__speed = new_speed\n",
    "        \n",
    "class Autobot(My_Bike_Class):\n",
    "    #Who are these guys again?\n",
    "    \n",
    "    def __init__(self, bike_type):\n",
    "        print(\"am lame bot\")\n",
    "        super().__init__(bike_type)\n",
    "        autobot_transform = True\n",
    "        decepticon_transform = False\n",
    "        \n",
    "    def fly(self, speed):\n",
    "        self.speed = 0\n",
    "        print(\"Autobots do not fly. Autobots do not exist. Einstein once said - A thing can only fly if it exists.\")"
   ]
  },
  {
   "cell_type": "code",
   "execution_count": 423,
   "metadata": {},
   "outputs": [
    {
     "name": "stdout",
     "output_type": "stream",
     "text": [
      "am Decepticon\n",
      "am lame bot\n"
     ]
    }
   ],
   "source": [
    "starscream = Decepticon(\"cool\")\n",
    "jetfire = Autobot(\"not cool\")"
   ]
  },
  {
   "cell_type": "code",
   "execution_count": 424,
   "metadata": {},
   "outputs": [
    {
     "name": "stdout",
     "output_type": "stream",
     "text": [
      "Autobots do not fly. Autobots do not exist. Einstein once said - A thing can only fly if it exists.\n"
     ]
    }
   ],
   "source": [
    "jetfire.fly(\"300\")"
   ]
  },
  {
   "cell_type": "code",
   "execution_count": 425,
   "metadata": {},
   "outputs": [
    {
     "data": {
      "text/plain": [
       "0"
      ]
     },
     "execution_count": 425,
     "metadata": {},
     "output_type": "execute_result"
    }
   ],
   "source": [
    "jetfire.speed"
   ]
  },
  {
   "cell_type": "code",
   "execution_count": 426,
   "metadata": {},
   "outputs": [],
   "source": [
    "jetfire.speed = 300"
   ]
  },
  {
   "cell_type": "code",
   "execution_count": 427,
   "metadata": {},
   "outputs": [
    {
     "data": {
      "text/plain": [
       "300"
      ]
     },
     "execution_count": 427,
     "metadata": {},
     "output_type": "execute_result"
    }
   ],
   "source": [
    "jetfire.speed"
   ]
  },
  {
   "cell_type": "code",
   "execution_count": 428,
   "metadata": {},
   "outputs": [
    {
     "ename": "AttributeError",
     "evalue": "'Decepticon' object has no attribute '__speed'",
     "output_type": "error",
     "traceback": [
      "\u001b[1;31m---------------------------------------------------------------------------\u001b[0m",
      "\u001b[1;31mAttributeError\u001b[0m                            Traceback (most recent call last)",
      "\u001b[1;32m<ipython-input-428-31aac126b073>\u001b[0m in \u001b[0;36m<module>\u001b[1;34m()\u001b[0m\n\u001b[1;32m----> 1\u001b[1;33m \u001b[0mstarscream\u001b[0m\u001b[1;33m.\u001b[0m\u001b[0m__speed\u001b[0m\u001b[1;33m\u001b[0m\u001b[0m\n\u001b[0m",
      "\u001b[1;31mAttributeError\u001b[0m: 'Decepticon' object has no attribute '__speed'"
     ]
    }
   ],
   "source": [
    "starscream.__speed"
   ]
  },
  {
   "cell_type": "code",
   "execution_count": 429,
   "metadata": {},
   "outputs": [],
   "source": [
    "starscream.__speed = \"less than 100\""
   ]
  },
  {
   "cell_type": "code",
   "execution_count": 430,
   "metadata": {},
   "outputs": [
    {
     "data": {
      "text/plain": [
       "'less than 100'"
      ]
     },
     "execution_count": 430,
     "metadata": {},
     "output_type": "execute_result"
    }
   ],
   "source": [
    "starscream.__speed"
   ]
  },
  {
   "cell_type": "markdown",
   "metadata": {},
   "source": [
    "According to - https://pythonspot.com/encapsulation/, we need to do this:"
   ]
  },
  {
   "cell_type": "code",
   "execution_count": 431,
   "metadata": {},
   "outputs": [
    {
     "data": {
      "text/plain": [
       "'over 9000'"
      ]
     },
     "execution_count": 431,
     "metadata": {},
     "output_type": "execute_result"
    }
   ],
   "source": [
    "starscream._Decepticon__speed"
   ]
  },
  {
   "cell_type": "code",
   "execution_count": 432,
   "metadata": {},
   "outputs": [],
   "source": [
    "starscream._Decepticon__speed = 2000"
   ]
  },
  {
   "cell_type": "code",
   "execution_count": 433,
   "metadata": {},
   "outputs": [
    {
     "data": {
      "text/plain": [
       "2000"
      ]
     },
     "execution_count": 433,
     "metadata": {},
     "output_type": "execute_result"
    }
   ],
   "source": [
    "starscream._Decepticon__speed"
   ]
  },
  {
   "cell_type": "markdown",
   "metadata": {},
   "source": [
    "### Encapsulation only prevents accidental updation not intentional as seen above."
   ]
  },
  {
   "cell_type": "markdown",
   "metadata": {},
   "source": [
    "# Polymorphism"
   ]
  },
  {
   "cell_type": "code",
   "execution_count": 441,
   "metadata": {},
   "outputs": [],
   "source": [
    "class My_Bike_Class:\n",
    "    \n",
    "    @property\n",
    "    def __doc__(self):\n",
    "        print(\"Defining dunder doc for my Bike class.\")\n",
    "        \n",
    "    # Initializer / Instance Attributes\n",
    "    def __init__(self, bike_type):\n",
    "        self.bike_type = bike_type\n",
    "        autobot_transform = False\n",
    "        decepticon_transform = False\n",
    "        \n",
    "    # Class Attribute\n",
    "    bike_material = \"Reinforced Gold Titanium Alloy\"\n",
    "    \n",
    "    \n",
    "    #Instance method\n",
    "    def show_my_bike(self):\n",
    "        return print(\"Bike is made of {0}. This is a {1} bike.\".format(self.bike_material, self.bike_type))\n",
    "    \n",
    "    #Instance method\n",
    "    def does_bike_move(self):\n",
    "        if self.bike_type == \"exercise\":\n",
    "            return print(\"No. Bikes, move they cannot.\")\n",
    "        else:\n",
    "            return print(\"Yes. Bikes, move they can.\")\n",
    "    \n",
    "    #Modifying attributes\n",
    "    def reveal_true_nature(self):\n",
    "        a = input(\"Make your choice. Enter the word autobot to become an autobot. Enter the word decepticon to become a decepticon. Choose Wisely, young pedawan. \")\n",
    "        self.decepticon_transform = True\n",
    "        if a == \"autobot\":\n",
    "            print(\"Welcome to your first day as a Decepticon. If you have complaints about our recruitment process, please note that it's a feature and not a bug.\")\n",
    "        else:\n",
    "            print(\"Welcome to your first day as a Decepticon. You are rotten inside. Pick autobots, you edgy degenerate.\")\n",
    "            \n",
    "\n",
    "            \n",
    "class Decepticon(My_Bike_Class):\n",
    "    #Due to popular public demand, Decepticons can fly. Decepticons are widely recognised as a kind of bike.\n",
    "    def __init__(self, bike_type):\n",
    "        super().__init__(bike_type)\n",
    "        print(\"am Decepticon\")\n",
    "        autobot_transform = False\n",
    "        decepticon_transform = True\n",
    "        self.__speed = \"over 9000\"\n",
    "        \n",
    "    def fly(self):\n",
    "        print(\"{} flies at {} speed.\".format(self.bike_type, self.__speed))\n",
    "        \n",
    "    def set_fly_speed(self,new_speed):\n",
    "        self.__speed = new_speed\n",
    "        \n",
    "class Autobot(My_Bike_Class):\n",
    "    #Who are these guys again?\n",
    "    \n",
    "    def __init__(self, bike_type):\n",
    "        print(\"am lame bot\")\n",
    "        super().__init__(bike_type)\n",
    "        autobot_transform = True\n",
    "        decepticon_transform = False\n",
    "        \n",
    "    def fly(self):\n",
    "        self.speed = 0\n",
    "        print(\"Autobots do not fly. Autobots do not exist. Einstein once said - A thing can only fly if it exists.\")\n",
    "        \n",
    "\n",
    "        \n",
    "        \n",
    "def can_you_even_fly(robot):\n",
    "    robot.fly()    "
   ]
  },
  {
   "cell_type": "code",
   "execution_count": 442,
   "metadata": {},
   "outputs": [
    {
     "name": "stdout",
     "output_type": "stream",
     "text": [
      "am Decepticon\n",
      "am lame bot\n"
     ]
    }
   ],
   "source": [
    "starscream = Decepticon(\"cool\")\n",
    "jetfire = Autobot(\"not cool\")"
   ]
  },
  {
   "cell_type": "code",
   "execution_count": 443,
   "metadata": {},
   "outputs": [
    {
     "name": "stdout",
     "output_type": "stream",
     "text": [
      "cool flies at over 9000 speed.\n"
     ]
    }
   ],
   "source": [
    "can_you_even_fly(starscream)"
   ]
  },
  {
   "cell_type": "code",
   "execution_count": 444,
   "metadata": {},
   "outputs": [
    {
     "name": "stdout",
     "output_type": "stream",
     "text": [
      "Autobots do not fly. Autobots do not exist. Einstein once said - A thing can only fly if it exists.\n"
     ]
    }
   ],
   "source": [
    "can_you_even_fly(jetfire)"
   ]
  },
  {
   "cell_type": "markdown",
   "metadata": {},
   "source": [
    "# Every class has some in built functions and attributes in addition to dunder __doc__, check it out here: https://www.javatpoint.com/python-constructors"
   ]
  },
  {
   "cell_type": "markdown",
   "metadata": {},
   "source": [
    "# Moving on to this: https://www.programiz.com/python-programming/class"
   ]
  },
  {
   "cell_type": "markdown",
   "metadata": {},
   "source": [
    "## Another way to define a docstring:"
   ]
  },
  {
   "cell_type": "code",
   "execution_count": 1,
   "metadata": {},
   "outputs": [],
   "source": [
    "class Anime():\n",
    "    '''This is the world's greatest class, no doubt about it. No ifs, ands or buts. Can there ever be a class as great as the Anime class? No. Better not even try to beat this class.'''\n",
    "    pass"
   ]
  },
  {
   "cell_type": "code",
   "execution_count": 2,
   "metadata": {},
   "outputs": [
    {
     "data": {
      "text/plain": [
       "\"This is the world's greatest class, no doubt about it. No ifs, ands or buts. Can there ever be a class as great as the Anime class? No. Better not even try to beat this class.\""
      ]
     },
     "execution_count": 2,
     "metadata": {},
     "output_type": "execute_result"
    }
   ],
   "source": [
    "Anime.__doc__"
   ]
  },
  {
   "cell_type": "code",
   "execution_count": 25,
   "metadata": {},
   "outputs": [],
   "source": [
    "shokugeki = Anime()"
   ]
  },
  {
   "cell_type": "code",
   "execution_count": 26,
   "metadata": {},
   "outputs": [
    {
     "data": {
      "text/plain": [
       "\"This is the world's greatest class, no doubt about it. No ifs, ands or buts. Can there ever be a class as great as the Anime class? No. Better not even try to beat this class.\""
      ]
     },
     "execution_count": 26,
     "metadata": {},
     "output_type": "execute_result"
    }
   ],
   "source": [
    "shokugeki.__doc__"
   ]
  },
  {
   "cell_type": "code",
   "execution_count": 58,
   "metadata": {},
   "outputs": [],
   "source": [
    "class Dota():\n",
    "    @property\n",
    "    def __doc__():\n",
    "        return \"If only I could git gud.\""
   ]
  },
  {
   "cell_type": "code",
   "execution_count": 59,
   "metadata": {},
   "outputs": [
    {
     "data": {
      "text/plain": [
       "<property at 0x1431daf54a8>"
      ]
     },
     "execution_count": 59,
     "metadata": {},
     "output_type": "execute_result"
    }
   ],
   "source": [
    "Dota.__doc__"
   ]
  },
  {
   "cell_type": "code",
   "execution_count": 60,
   "metadata": {},
   "outputs": [
    {
     "name": "stdout",
     "output_type": "stream",
     "text": [
      "<property object at 0x000001431DAF54A8>\n"
     ]
    }
   ],
   "source": [
    "print(Dota.__doc__)"
   ]
  },
  {
   "cell_type": "code",
   "execution_count": 61,
   "metadata": {},
   "outputs": [
    {
     "data": {
      "text/plain": [
       "'<property object at 0x000001431DAF54A8>'"
      ]
     },
     "execution_count": 61,
     "metadata": {},
     "output_type": "execute_result"
    }
   ],
   "source": [
    "format(Dota.__doc__)"
   ]
  },
  {
   "cell_type": "code",
   "execution_count": 62,
   "metadata": {},
   "outputs": [
    {
     "data": {
      "text/plain": [
       "'<property object at 0x000001431DAF54A8>'"
      ]
     },
     "execution_count": 62,
     "metadata": {},
     "output_type": "execute_result"
    }
   ],
   "source": [
    "str(Dota.__doc__)"
   ]
  },
  {
   "cell_type": "code",
   "execution_count": 23,
   "metadata": {},
   "outputs": [],
   "source": [
    "lc = Dota()"
   ]
  },
  {
   "cell_type": "code",
   "execution_count": 24,
   "metadata": {},
   "outputs": [
    {
     "data": {
      "text/plain": [
       "<bound method Dota.__doc__ of <__main__.Dota object at 0x000001431D956E48>>"
      ]
     },
     "execution_count": 24,
     "metadata": {},
     "output_type": "execute_result"
    }
   ],
   "source": [
    "lc.__doc__"
   ]
  },
  {
   "cell_type": "markdown",
   "metadata": {},
   "source": [
    "## I think it's way easier to use the docstring."
   ]
  },
  {
   "cell_type": "markdown",
   "metadata": {},
   "source": [
    "### Attributes of an object can be created on the fly outside the class definition"
   ]
  },
  {
   "cell_type": "markdown",
   "metadata": {},
   "source": [
    "## Deleting attributes and objects:"
   ]
  },
  {
   "cell_type": "code",
   "execution_count": 39,
   "metadata": {},
   "outputs": [],
   "source": [
    "lc.lane =\"offlane, maybe mid\""
   ]
  },
  {
   "cell_type": "code",
   "execution_count": 40,
   "metadata": {},
   "outputs": [
    {
     "data": {
      "text/plain": [
       "'offlane, maybe mid'"
      ]
     },
     "execution_count": 40,
     "metadata": {},
     "output_type": "execute_result"
    }
   ],
   "source": [
    "lc.lane"
   ]
  },
  {
   "cell_type": "code",
   "execution_count": 41,
   "metadata": {},
   "outputs": [],
   "source": [
    "lc.lane += \", uhhhhh safe lane?\""
   ]
  },
  {
   "cell_type": "code",
   "execution_count": 42,
   "metadata": {},
   "outputs": [
    {
     "data": {
      "text/plain": [
       "'offlane, maybe mid, uhhhhh safe lane?'"
      ]
     },
     "execution_count": 42,
     "metadata": {},
     "output_type": "execute_result"
    }
   ],
   "source": [
    "lc.lane"
   ]
  },
  {
   "cell_type": "code",
   "execution_count": 43,
   "metadata": {},
   "outputs": [],
   "source": [
    "doom = Dota()"
   ]
  },
  {
   "cell_type": "code",
   "execution_count": 44,
   "metadata": {},
   "outputs": [
    {
     "ename": "AttributeError",
     "evalue": "'Dota' object has no attribute 'lane'",
     "output_type": "error",
     "traceback": [
      "\u001b[1;31m---------------------------------------------------------------------------\u001b[0m",
      "\u001b[1;31mAttributeError\u001b[0m                            Traceback (most recent call last)",
      "\u001b[1;32m<ipython-input-44-94015f42c3d8>\u001b[0m in \u001b[0;36m<module>\u001b[1;34m()\u001b[0m\n\u001b[1;32m----> 1\u001b[1;33m \u001b[0mdoom\u001b[0m\u001b[1;33m.\u001b[0m\u001b[0mlane\u001b[0m\u001b[1;33m\u001b[0m\u001b[0m\n\u001b[0m",
      "\u001b[1;31mAttributeError\u001b[0m: 'Dota' object has no attribute 'lane'"
     ]
    }
   ],
   "source": [
    "doom.lane"
   ]
  },
  {
   "cell_type": "code",
   "execution_count": 45,
   "metadata": {},
   "outputs": [],
   "source": [
    "del lc.lane"
   ]
  },
  {
   "cell_type": "code",
   "execution_count": 46,
   "metadata": {},
   "outputs": [
    {
     "ename": "AttributeError",
     "evalue": "'Dota' object has no attribute 'lane'",
     "output_type": "error",
     "traceback": [
      "\u001b[1;31m---------------------------------------------------------------------------\u001b[0m",
      "\u001b[1;31mAttributeError\u001b[0m                            Traceback (most recent call last)",
      "\u001b[1;32m<ipython-input-46-357d37c12e0d>\u001b[0m in \u001b[0;36m<module>\u001b[1;34m()\u001b[0m\n\u001b[1;32m----> 1\u001b[1;33m \u001b[0mlc\u001b[0m\u001b[1;33m.\u001b[0m\u001b[0mlane\u001b[0m\u001b[1;33m\u001b[0m\u001b[0m\n\u001b[0m",
      "\u001b[1;31mAttributeError\u001b[0m: 'Dota' object has no attribute 'lane'"
     ]
    }
   ],
   "source": [
    "lc.lane"
   ]
  },
  {
   "cell_type": "code",
   "execution_count": 47,
   "metadata": {},
   "outputs": [
    {
     "data": {
      "text/plain": [
       "<__main__.Dota at 0x1431dab3128>"
      ]
     },
     "execution_count": 47,
     "metadata": {},
     "output_type": "execute_result"
    }
   ],
   "source": [
    "doom"
   ]
  },
  {
   "cell_type": "code",
   "execution_count": 48,
   "metadata": {},
   "outputs": [],
   "source": [
    "del doom"
   ]
  },
  {
   "cell_type": "code",
   "execution_count": 49,
   "metadata": {},
   "outputs": [
    {
     "ename": "NameError",
     "evalue": "name 'doom' is not defined",
     "output_type": "error",
     "traceback": [
      "\u001b[1;31m---------------------------------------------------------------------------\u001b[0m",
      "\u001b[1;31mNameError\u001b[0m                                 Traceback (most recent call last)",
      "\u001b[1;32m<ipython-input-49-19c75a2ef253>\u001b[0m in \u001b[0;36m<module>\u001b[1;34m()\u001b[0m\n\u001b[1;32m----> 1\u001b[1;33m \u001b[0mdoom\u001b[0m\u001b[1;33m\u001b[0m\u001b[0m\n\u001b[0m",
      "\u001b[1;31mNameError\u001b[0m: name 'doom' is not defined"
     ]
    }
   ],
   "source": [
    "doom"
   ]
  },
  {
   "cell_type": "markdown",
   "metadata": {},
   "source": [
    "### When we say that doom is an instance of the Dota class, a new instance object is created in memory with the name doom. When we delete an object, the name is simply removed from that memory location. AFAI understood, the memory location is still in use. The data in this location is automatically destroyed - garbage collection. Can be done manually too. Something like gc.collect() I believe with the right imports."
   ]
  },
  {
   "cell_type": "markdown",
   "metadata": {},
   "source": [
    "### \"In the multiple inheritance scenario, any specified attribute is searched first in the current class. If not found, the search continues into parent classes in depth-first, left-right fashion without searching same class twice.\"\n",
    "### Set of rules which determine how the attribute search works - Method Order Resolution."
   ]
  },
  {
   "cell_type": "code",
   "execution_count": 50,
   "metadata": {},
   "outputs": [
    {
     "data": {
      "text/plain": [
       "(__main__.Dota, object)"
      ]
     },
     "execution_count": 50,
     "metadata": {},
     "output_type": "execute_result"
    }
   ],
   "source": [
    "Dota.__mro__"
   ]
  },
  {
   "cell_type": "markdown",
   "metadata": {},
   "source": [
    "### We can overload operators in the same way we overload functions in python. I guess this stems from everything in Python being an object."
   ]
  },
  {
   "cell_type": "code",
   "execution_count": 51,
   "metadata": {},
   "outputs": [
    {
     "ename": "SyntaxError",
     "evalue": "invalid syntax (<ipython-input-51-67aed5a87786>, line 1)",
     "output_type": "error",
     "traceback": [
      "\u001b[1;36m  File \u001b[1;32m\"<ipython-input-51-67aed5a87786>\"\u001b[1;36m, line \u001b[1;32m1\u001b[0m\n\u001b[1;33m    +.__doc__\u001b[0m\n\u001b[1;37m     ^\u001b[0m\n\u001b[1;31mSyntaxError\u001b[0m\u001b[1;31m:\u001b[0m invalid syntax\n"
     ]
    }
   ],
   "source": [
    "+.__doc__"
   ]
  },
  {
   "cell_type": "code",
   "execution_count": 52,
   "metadata": {},
   "outputs": [
    {
     "ename": "SyntaxError",
     "evalue": "invalid syntax (<ipython-input-52-c6c19335e083>, line 1)",
     "output_type": "error",
     "traceback": [
      "\u001b[1;36m  File \u001b[1;32m\"<ipython-input-52-c6c19335e083>\"\u001b[1;36m, line \u001b[1;32m1\u001b[0m\n\u001b[1;33m    +.__mro__\u001b[0m\n\u001b[1;37m     ^\u001b[0m\n\u001b[1;31mSyntaxError\u001b[0m\u001b[1;31m:\u001b[0m invalid syntax\n"
     ]
    }
   ],
   "source": [
    "+.__mro__"
   ]
  },
  {
   "cell_type": "markdown",
   "metadata": {},
   "source": [
    "### Ok, I guess operators are not objects."
   ]
  },
  {
   "cell_type": "markdown",
   "metadata": {},
   "source": [
    "### Alright, too many classes for today. I'll admit I merely skimmed through this, even though I initially planned to thoroughly read it: https://python.swaroopch.com/oop.html"
   ]
  },
  {
   "cell_type": "code",
   "execution_count": null,
   "metadata": {},
   "outputs": [],
   "source": []
  }
 ],
 "metadata": {
  "kernelspec": {
   "display_name": "Python 3",
   "language": "python",
   "name": "python3"
  },
  "language_info": {
   "codemirror_mode": {
    "name": "ipython",
    "version": 3
   },
   "file_extension": ".py",
   "mimetype": "text/x-python",
   "name": "python",
   "nbconvert_exporter": "python",
   "pygments_lexer": "ipython3",
   "version": "3.6.4"
  }
 },
 "nbformat": 4,
 "nbformat_minor": 2
}
